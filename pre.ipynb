{
 "cells": [
  {
   "cell_type": "code",
   "execution_count": null,
   "metadata": {},
   "outputs": [],
   "source": []
  },
  {
   "cell_type": "code",
   "execution_count": 32,
   "metadata": {},
   "outputs": [],
   "source": [
    "import requests\n",
    "import json\n",
    "import numpy as np"
   ]
  },
  {
   "cell_type": "code",
   "execution_count": null,
   "metadata": {},
   "outputs": [],
   "source": []
  },
  {
   "cell_type": "code",
   "execution_count": 33,
   "metadata": {},
   "outputs": [],
   "source": [
    "email = 'gunawan.rahardjo@gmail.com'\n",
    "course_date = '09-07-2020'"
   ]
  },
  {
   "cell_type": "code",
   "execution_count": 34,
   "metadata": {},
   "outputs": [],
   "source": [
    "url_get = 'http://165.22.250.235/api/assessment/' + email + \"?date=\" + course_date\n",
    "\n",
    "response_get = requests.get(url_get)\n"
   ]
  },
  {
   "cell_type": "code",
   "execution_count": null,
   "metadata": {},
   "outputs": [],
   "source": []
  },
  {
   "cell_type": "code",
   "execution_count": 35,
   "metadata": {},
   "outputs": [],
   "source": [
    "data_token = response_get.headers['X-Assessment-Token']\n",
    "data_samples = json.loads(response_get.content)['samples']\n"
   ]
  },
  {
   "cell_type": "code",
   "execution_count": null,
   "metadata": {},
   "outputs": [],
   "source": []
  },
  {
   "cell_type": "code",
   "execution_count": 36,
   "metadata": {},
   "outputs": [],
   "source": [
    "data = eval(data_samples)\n",
    "\n",
    "samples = data\n",
    "mean = np.mean(data)\n",
    "variance = np.var(data)\n",
    "argmax = np.argmax(data)\n"
   ]
  },
  {
   "cell_type": "code",
   "execution_count": 37,
   "metadata": {},
   "outputs": [],
   "source": [
    "result = {\n",
    "    'email': 'gunawan.rahardjo@gmail.com',\n",
    "    'date': course_date,\n",
    "    'samples': data_samples,\n",
    "    'mean': mean,\n",
    "    'variance': variance,\n",
    "    'argmax': argmax,\n",
    "    'fileUrl': 'https://github.com/gthio/adrl/blob/master/pre.ipynb',\n",
    "    'myWork': True\n",
    "}\n"
   ]
  },
  {
   "cell_type": "code",
   "execution_count": 38,
   "metadata": {},
   "outputs": [],
   "source": [
    "url_submit = \"http://165.22.250.235/api/assessment\"\n",
    "\n",
    "headers = {\n",
    "    'content-type': 'application/x-www-form-urlencoded',\n",
    "    'X-Assessment-Token': data_token}\n",
    "\n",
    "response_submit = requests.post(url_submit, data=result, headers=headers)"
   ]
  },
  {
   "cell_type": "code",
   "execution_count": 39,
   "metadata": {},
   "outputs": [
    {
     "data": {
      "text/plain": [
       "b'{\"message\":\"Thank you for your submission. You will be notified of your result\",\"submission\":{\"email\":\"gunawan.rahardjo@gmail.com\",\"date\":\"09-07-2020\",\"samples\":\"180.768,61.418,191.782,42.18,169.965,136.134,125.055,198.568,17.803,66.469,154.548,90.435,21.046,192.313,150.524,67.731,143.803,58.699,170.534,121.621,74.694,103.344,159.367,57.883,147.038,168.071,87.642,21.965,197.806,139.996,190.369,140.643,106.583,88.551,190.489,40.16,40.092,10.889,195.002,148.936,114.579,120.843,155.814,117.911,163.485,107.575,138.584,25.952\",\"mean\":116.99289583333332,\"variance\":3143.4413459683165,\"argmax\":7,\"fileUrl\":\"https://github.com/gthio/adrl/blob/master/pre.ipynb\",\"myWork\":\"True\"}}'"
      ]
     },
     "execution_count": 39,
     "metadata": {},
     "output_type": "execute_result"
    }
   ],
   "source": [
    "response_submit.content"
   ]
  },
  {
   "cell_type": "code",
   "execution_count": null,
   "metadata": {},
   "outputs": [],
   "source": []
  }
 ],
 "metadata": {
  "kernelspec": {
   "display_name": "Python 3",
   "language": "python",
   "name": "python3"
  },
  "language_info": {
   "codemirror_mode": {
    "name": "ipython",
    "version": 3
   },
   "file_extension": ".py",
   "mimetype": "text/x-python",
   "name": "python",
   "nbconvert_exporter": "python",
   "pygments_lexer": "ipython3",
   "version": "3.7.3"
  },
  "toc": {
   "base_numbering": 1,
   "nav_menu": {},
   "number_sections": true,
   "sideBar": true,
   "skip_h1_title": false,
   "title_cell": "Table of Contents",
   "title_sidebar": "Contents",
   "toc_cell": false,
   "toc_position": {},
   "toc_section_display": true,
   "toc_window_display": false
  }
 },
 "nbformat": 4,
 "nbformat_minor": 2
}
